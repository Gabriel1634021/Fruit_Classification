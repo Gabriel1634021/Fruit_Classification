{
 "cells": [
  {
   "cell_type": "code",
   "execution_count": null,
   "metadata": {},
   "outputs": [],
   "source": [
    "!pip install opencv-python\n",
    "!pip install scikit-image\n",
    "\n",
    "from skimage import color, feature\n",
    "from skimage.feature import hog\n",
    "from skimage.io import imread\n",
    "import numpy as np\n",
    "import cv2\n",
    "import matplotlib.pyplot as plt\n",
    "from matplotlib import image as mpimg\n",
    "import os\n",
    "import glob\n",
    "from sklearn.neighbors import KNeighborsClassifier\n",
    "from sklearn import metrics"
   ]
  },
  {
   "cell_type": "code",
   "execution_count": null,
   "metadata": {},
   "outputs": [],
   "source": [
    "img=np.array(mpimg.imread('.gitignore/dataset/train/freshapples/rotated_by_15_Screen Shot 2018-06-08 at 4.59.36 PM.png'))\n",
    "img.setflags(write=1)\n",
    "print('Image : ',img.shape)\n",
    "plt.imshow(img)\n",
    "plt.show()"
   ]
  },
  {
   "cell_type": "code",
   "execution_count": null,
   "metadata": {},
   "outputs": [],
   "source": [
    "import cv2\n",
    "\n",
    "# Redimensionar la imatge\n",
    "resized_img = cv2.resize(img, (150, 150))\n",
    "\n",
    "# Mostrar la imatge redimensionada\n",
    "plt.imshow(resized_img)\n",
    "plt.show()\n",
    "print(resized_img.shape)"
   ]
  },
  {
   "cell_type": "markdown",
   "metadata": {},
   "source": [
    "Nou tamany de la imatge per a poder ser procesada pel model d'aprenentatge més fàcilment. "
   ]
  },
  {
   "cell_type": "markdown",
   "metadata": {},
   "source": [
    "A continuació convertirem la imatge a RGB seleccionant només aquests canals, convertirem les imatges a una escala de grisos eliminant la complexitat dels colors i ens centrarem en l'estructura per a detectar formes i textures de les imatges mitjançant la tècnica HOG. "
   ]
  },
  {
   "cell_type": "code",
   "execution_count": null,
   "metadata": {},
   "outputs": [],
   "source": [
    "from skimage import color, feature\n",
    "# Remove the alpha channel from the image\n",
    "rgb_img = resized_img[:, :, :3]\n",
    "\n",
    "\n",
    "# Convert the image to grayscale\n",
    "gray_img = color.rgb2gray(rgb_img)\n",
    "\n",
    "# Compute HOG features for the grayscale image\n",
    "fd, hog_image = feature.hog(gray_img, orientations=9, pixels_per_cell=(8, 8),\n",
    "                            cells_per_block=(2, 2), visualize=True)\n",
    "\n",
    "print(fd.shape)\n",
    "print(fd)\n",
    "print(hog_image.shape)\n",
    "# Display the HOG image\n",
    "plt.axis(\"off\")\n",
    "plt.imshow(hog_image, cmap=\"gray\")"
   ]
  },
  {
   "cell_type": "markdown",
   "metadata": {},
   "source": [
    "**Procesament de imatges Fresh Apples:**\n",
    "\n",
    "A través del Histogram of Oriented Objects podem extreure les característiques de les Fresh Apples"
   ]
  },
  {
   "cell_type": "markdown",
   "metadata": {},
   "source": [
    "Llegim tota l'iformació de les dades del train y les guardem junt amb les labels"
   ]
  },
  {
   "cell_type": "code",
   "execution_count": null,
   "metadata": {},
   "outputs": [],
   "source": [
    "# Inicializar listas globales para características y etiquetas\n",
    "data = []\n",
    "labels = []\n",
    "\n",
    "\n",
    "# Definir rutas y etiquetas correspondientes\n",
    "freshfruits = {\n",
    "    \"freshapples\": \"freshapple\",\n",
    "    \"freshbanana\": \"freshbanana\",\n",
    "    \"freshoranges\": \"freshorange\"\n",
    "}\n",
    "\n",
    "rottenfruits = {\n",
    "    \"rottenapples\": \"rottenapples\",\n",
    "    \"rottenbanana\": \"rottenbanana\",\n",
    "    \"rottenoranges\": \"rottenoranges\"\n",
    "}\n",
    "\n",
    "# Procesar cada tipo de fruta frescas\n",
    "for fruit_folder, label in freshfruits.items():\n",
    "    folder_path = f\".gitignore/dataset/train/{fruit_folder}/*.png\"\n",
    "    for entry in glob.glob(folder_path):\n",
    "        img = cv2.imread(entry)  # Leer imagen\n",
    "        resized_img = cv2.resize(img, (64, 32))  # Redimensionar imagen\n",
    "        gray_img = cv2.cvtColor(resized_img, cv2.COLOR_BGR2GRAY)  # Convertir a escala de grises\n",
    "        fd = hog(gray_img)  # Calcular características HOG\n",
    "        data.append(fd)  # Agregar características\n",
    "        labels.append(label)  # Agregar etiqueta correspondiente\n",
    "    print(f\"{label.capitalize()} Images: {len(glob.glob(folder_path))}\")\n",
    "\n",
    "\n",
    "# Procesar cada tipo de fruta no frescas\n",
    "for fruit_folder, label in rottenfruits.items():\n",
    "    folder_path = f\".gitignore/dataset/train/{fruit_folder}/*.png\"\n",
    "    for entry in glob.glob(folder_path):\n",
    "        img = cv2.imread(entry)  # Leer imagen\n",
    "        resized_img = cv2.resize(img, (64, 32))  # Redimensionar imagen\n",
    "        gray_img = cv2.cvtColor(resized_img, cv2.COLOR_BGR2GRAY)  # Convertir a escala de grises\n",
    "        fd = hog(gray_img)  # Calcular características HOG\n",
    "        data.append(fd)  # Agregar características\n",
    "        labels.append(label)  # Agregar etiqueta correspondiente\n",
    "    print(f\"{label.capitalize()} Images: {len(glob.glob(folder_path))}\")\n",
    "\n",
    "\n",
    "# Verificar la longitud de los datos y las etiquetas\n",
    "print(\"Total number of images: \" + str(len(data)))\n",
    "print(\"Total number of labels: \" + str(len(labels)))\n"
   ]
  },
  {
   "cell_type": "markdown",
   "metadata": {},
   "source": [
    "Entrenem una Maquina de Vectors de Suport amb estrategia One Vs One "
   ]
  },
  {
   "cell_type": "code",
   "execution_count": null,
   "metadata": {},
   "outputs": [],
   "source": [
    "from sklearn.model_selection import train_test_split\n",
    "from sklearn.preprocessing import LabelEncoder\n",
    "from sklearn.multiclass import OneVsOneClassifier\n",
    "from sklearn.svm import SVC\n",
    "from sklearn.metrics import classification_report, accuracy_score\n",
    "import numpy as np\n",
    "\n",
    "# Convertir los datos y etiquetas a arrays\n",
    "data = np.array(data)\n",
    "labels = np.array(labels)\n",
    "\n",
    "# Normalizar las etiquetas para que sean solo tipos de frutas (ignorando si están frescas o podridas)\n",
    "def normalize_label(label):\n",
    "    if \"apple\" in label:\n",
    "        return \"apple\"\n",
    "    elif \"banana\" in label:\n",
    "        return \"banana\"\n",
    "    elif \"orange\" in label:\n",
    "        return \"orange\"\n",
    "\n",
    "normalized_labels = np.array([normalize_label(label) for label in labels])\n",
    "\n",
    "# Codificar etiquetas como valores numéricos\n",
    "encoder = LabelEncoder()\n",
    "encoded_labels = encoder.fit_transform(normalized_labels)\n",
    "\n",
    "# Dividir datos en entrenamiento y prueba\n",
    "X_train, X_test, y_train, y_test = train_test_split(data, encoded_labels, test_size=0.3, random_state=42, stratify=encoded_labels)\n",
    "\n",
    "# Configurar el modelo con la estrategia One-vs-One\n",
    "ovo_classifier = OneVsOneClassifier(SVC(kernel='linear', probability=True, random_state=42))\n",
    "\n",
    "# Entrenar el modelo\n",
    "ovo_classifier.fit(X_train, y_train)\n",
    "\n",
    "# Evaluar el modelo\n",
    "y_pred = ovo_classifier.predict(X_test)\n",
    "\n",
    "# Mostrar resultados\n",
    "print(\"Accuracy:\", accuracy_score(y_test, y_pred))\n",
    "print(\"\\nClassification Report:\")\n",
    "print(classification_report(y_test, y_pred, target_names=encoder.classes_))\n"
   ]
  }
 ],
 "metadata": {
  "kernelspec": {
   "display_name": "Python 3",
   "language": "python",
   "name": "python3"
  },
  "language_info": {
   "codemirror_mode": {
    "name": "ipython",
    "version": 3
   },
   "file_extension": ".py",
   "mimetype": "text/x-python",
   "name": "python",
   "nbconvert_exporter": "python",
   "pygments_lexer": "ipython3",
   "version": "3.10.11"
  }
 },
 "nbformat": 4,
 "nbformat_minor": 2
}
